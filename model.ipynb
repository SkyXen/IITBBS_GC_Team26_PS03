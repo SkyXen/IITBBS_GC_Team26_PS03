{
 "cells": [
  {
   "cell_type": "code",
   "execution_count": 1,
   "metadata": {},
   "outputs": [],
   "source": [
    "import numpy as np\n",
    "import pandas as pd\n",
    "import matplotlib.pyplot as plt"
   ]
  },
  {
   "cell_type": "code",
   "execution_count": 2,
   "metadata": {},
   "outputs": [],
   "source": [
    "data = pd.read_csv(\"training_set.csv\")"
   ]
  },
  {
   "cell_type": "code",
   "execution_count": 3,
   "metadata": {},
   "outputs": [
    {
     "data": {
      "text/html": [
       "<div>\n",
       "<style scoped>\n",
       "    .dataframe tbody tr th:only-of-type {\n",
       "        vertical-align: middle;\n",
       "    }\n",
       "\n",
       "    .dataframe tbody tr th {\n",
       "        vertical-align: top;\n",
       "    }\n",
       "\n",
       "    .dataframe thead th {\n",
       "        text-align: right;\n",
       "    }\n",
       "</style>\n",
       "<table border=\"1\" class=\"dataframe\">\n",
       "  <thead>\n",
       "    <tr style=\"text-align: right;\">\n",
       "      <th></th>\n",
       "      <th>Unnamed: 0</th>\n",
       "      <th>Time</th>\n",
       "      <th>P1</th>\n",
       "      <th>P2</th>\n",
       "      <th>P3</th>\n",
       "      <th>P4</th>\n",
       "      <th>P5</th>\n",
       "      <th>P6</th>\n",
       "      <th>P7</th>\n",
       "      <th>P8</th>\n",
       "      <th>...</th>\n",
       "      <th>P21</th>\n",
       "      <th>P22</th>\n",
       "      <th>P23</th>\n",
       "      <th>P24</th>\n",
       "      <th>P25</th>\n",
       "      <th>P26</th>\n",
       "      <th>P27</th>\n",
       "      <th>P28</th>\n",
       "      <th>Mud</th>\n",
       "      <th>Class</th>\n",
       "    </tr>\n",
       "  </thead>\n",
       "  <tbody>\n",
       "    <tr>\n",
       "      <th>0</th>\n",
       "      <td>202709</td>\n",
       "      <td>134454.0</td>\n",
       "      <td>1.997387</td>\n",
       "      <td>0.028631</td>\n",
       "      <td>-1.885047</td>\n",
       "      <td>0.341234</td>\n",
       "      <td>0.350263</td>\n",
       "      <td>-0.900297</td>\n",
       "      <td>0.119352</td>\n",
       "      <td>-0.157746</td>\n",
       "      <td>...</td>\n",
       "      <td>0.229023</td>\n",
       "      <td>0.729647</td>\n",
       "      <td>-0.082236</td>\n",
       "      <td>-0.550494</td>\n",
       "      <td>0.227840</td>\n",
       "      <td>-0.090372</td>\n",
       "      <td>-0.012176</td>\n",
       "      <td>-0.044384</td>\n",
       "      <td>21.90</td>\n",
       "      <td>0</td>\n",
       "    </tr>\n",
       "    <tr>\n",
       "      <th>1</th>\n",
       "      <td>129171</td>\n",
       "      <td>78980.0</td>\n",
       "      <td>-0.851823</td>\n",
       "      <td>1.446070</td>\n",
       "      <td>0.679759</td>\n",
       "      <td>0.007973</td>\n",
       "      <td>0.617801</td>\n",
       "      <td>-1.210695</td>\n",
       "      <td>1.369637</td>\n",
       "      <td>-0.442985</td>\n",
       "      <td>...</td>\n",
       "      <td>0.130170</td>\n",
       "      <td>0.471780</td>\n",
       "      <td>-0.215118</td>\n",
       "      <td>0.402875</td>\n",
       "      <td>-0.109756</td>\n",
       "      <td>-0.629885</td>\n",
       "      <td>-0.725665</td>\n",
       "      <td>-0.351324</td>\n",
       "      <td>2.99</td>\n",
       "      <td>0</td>\n",
       "    </tr>\n",
       "    <tr>\n",
       "      <th>2</th>\n",
       "      <td>73775</td>\n",
       "      <td>55273.0</td>\n",
       "      <td>1.119963</td>\n",
       "      <td>0.546055</td>\n",
       "      <td>0.877856</td>\n",
       "      <td>2.415833</td>\n",
       "      <td>-0.282554</td>\n",
       "      <td>-0.336366</td>\n",
       "      <td>0.018747</td>\n",
       "      <td>0.042135</td>\n",
       "      <td>...</td>\n",
       "      <td>-0.183696</td>\n",
       "      <td>-0.662870</td>\n",
       "      <td>0.156578</td>\n",
       "      <td>0.471700</td>\n",
       "      <td>0.182968</td>\n",
       "      <td>-0.295540</td>\n",
       "      <td>-0.012185</td>\n",
       "      <td>0.020821</td>\n",
       "      <td>7.08</td>\n",
       "      <td>0</td>\n",
       "    </tr>\n",
       "    <tr>\n",
       "      <th>3</th>\n",
       "      <td>31569</td>\n",
       "      <td>36417.0</td>\n",
       "      <td>1.328189</td>\n",
       "      <td>-0.305950</td>\n",
       "      <td>-0.998639</td>\n",
       "      <td>-1.236795</td>\n",
       "      <td>1.733800</td>\n",
       "      <td>3.236893</td>\n",
       "      <td>-0.779472</td>\n",
       "      <td>0.830587</td>\n",
       "      <td>...</td>\n",
       "      <td>-0.183574</td>\n",
       "      <td>-0.678249</td>\n",
       "      <td>0.056192</td>\n",
       "      <td>1.054628</td>\n",
       "      <td>0.275940</td>\n",
       "      <td>0.919345</td>\n",
       "      <td>-0.069212</td>\n",
       "      <td>0.003619</td>\n",
       "      <td>7.68</td>\n",
       "      <td>0</td>\n",
       "    </tr>\n",
       "    <tr>\n",
       "      <th>4</th>\n",
       "      <td>250571</td>\n",
       "      <td>154977.0</td>\n",
       "      <td>-0.618361</td>\n",
       "      <td>-0.861401</td>\n",
       "      <td>0.513524</td>\n",
       "      <td>1.677866</td>\n",
       "      <td>-0.143396</td>\n",
       "      <td>-0.510276</td>\n",
       "      <td>-1.020312</td>\n",
       "      <td>0.734283</td>\n",
       "      <td>...</td>\n",
       "      <td>0.029121</td>\n",
       "      <td>-0.269169</td>\n",
       "      <td>0.410990</td>\n",
       "      <td>-0.091444</td>\n",
       "      <td>-0.883856</td>\n",
       "      <td>-0.863775</td>\n",
       "      <td>-0.023857</td>\n",
       "      <td>-0.293884</td>\n",
       "      <td>49.00</td>\n",
       "      <td>0</td>\n",
       "    </tr>\n",
       "    <tr>\n",
       "      <th>...</th>\n",
       "      <td>...</td>\n",
       "      <td>...</td>\n",
       "      <td>...</td>\n",
       "      <td>...</td>\n",
       "      <td>...</td>\n",
       "      <td>...</td>\n",
       "      <td>...</td>\n",
       "      <td>...</td>\n",
       "      <td>...</td>\n",
       "      <td>...</td>\n",
       "      <td>...</td>\n",
       "      <td>...</td>\n",
       "      <td>...</td>\n",
       "      <td>...</td>\n",
       "      <td>...</td>\n",
       "      <td>...</td>\n",
       "      <td>...</td>\n",
       "      <td>...</td>\n",
       "      <td>...</td>\n",
       "      <td>...</td>\n",
       "      <td>...</td>\n",
       "    </tr>\n",
       "    <tr>\n",
       "      <th>227840</th>\n",
       "      <td>123779</td>\n",
       "      <td>77062.0</td>\n",
       "      <td>-3.335590</td>\n",
       "      <td>-2.599210</td>\n",
       "      <td>0.382040</td>\n",
       "      <td>1.960999</td>\n",
       "      <td>1.609231</td>\n",
       "      <td>-2.167901</td>\n",
       "      <td>-0.318535</td>\n",
       "      <td>0.267420</td>\n",
       "      <td>...</td>\n",
       "      <td>-0.066432</td>\n",
       "      <td>0.680808</td>\n",
       "      <td>2.984533</td>\n",
       "      <td>0.326445</td>\n",
       "      <td>0.607655</td>\n",
       "      <td>-0.206789</td>\n",
       "      <td>0.293206</td>\n",
       "      <td>-0.385501</td>\n",
       "      <td>45.06</td>\n",
       "      <td>0</td>\n",
       "    </tr>\n",
       "    <tr>\n",
       "      <th>227841</th>\n",
       "      <td>213565</td>\n",
       "      <td>139306.0</td>\n",
       "      <td>-2.547925</td>\n",
       "      <td>0.907351</td>\n",
       "      <td>0.118437</td>\n",
       "      <td>4.582570</td>\n",
       "      <td>0.763807</td>\n",
       "      <td>2.426485</td>\n",
       "      <td>0.467556</td>\n",
       "      <td>-1.477862</td>\n",
       "      <td>...</td>\n",
       "      <td>1.233590</td>\n",
       "      <td>0.892970</td>\n",
       "      <td>1.037710</td>\n",
       "      <td>-0.988463</td>\n",
       "      <td>-0.404744</td>\n",
       "      <td>0.604577</td>\n",
       "      <td>0.554823</td>\n",
       "      <td>-0.576428</td>\n",
       "      <td>150.96</td>\n",
       "      <td>0</td>\n",
       "    </tr>\n",
       "    <tr>\n",
       "      <th>227842</th>\n",
       "      <td>213130</td>\n",
       "      <td>139123.0</td>\n",
       "      <td>0.020578</td>\n",
       "      <td>-0.300600</td>\n",
       "      <td>0.515964</td>\n",
       "      <td>-2.423570</td>\n",
       "      <td>0.219863</td>\n",
       "      <td>0.176180</td>\n",
       "      <td>-0.108928</td>\n",
       "      <td>0.131816</td>\n",
       "      <td>...</td>\n",
       "      <td>0.542415</td>\n",
       "      <td>1.513675</td>\n",
       "      <td>0.025602</td>\n",
       "      <td>0.274267</td>\n",
       "      <td>-1.043304</td>\n",
       "      <td>-0.407177</td>\n",
       "      <td>0.254161</td>\n",
       "      <td>0.257661</td>\n",
       "      <td>29.00</td>\n",
       "      <td>0</td>\n",
       "    </tr>\n",
       "    <tr>\n",
       "      <th>227843</th>\n",
       "      <td>65898</td>\n",
       "      <td>51795.0</td>\n",
       "      <td>1.151628</td>\n",
       "      <td>-0.011729</td>\n",
       "      <td>1.192780</td>\n",
       "      <td>1.135587</td>\n",
       "      <td>-0.694287</td>\n",
       "      <td>0.325303</td>\n",
       "      <td>-0.637144</td>\n",
       "      <td>0.223683</td>\n",
       "      <td>...</td>\n",
       "      <td>-0.030267</td>\n",
       "      <td>0.138446</td>\n",
       "      <td>-0.056992</td>\n",
       "      <td>0.031559</td>\n",
       "      <td>0.454740</td>\n",
       "      <td>-0.407599</td>\n",
       "      <td>0.074367</td>\n",
       "      <td>0.024642</td>\n",
       "      <td>0.01</td>\n",
       "      <td>0</td>\n",
       "    </tr>\n",
       "    <tr>\n",
       "      <th>227844</th>\n",
       "      <td>154156</td>\n",
       "      <td>100895.0</td>\n",
       "      <td>1.922497</td>\n",
       "      <td>-0.464163</td>\n",
       "      <td>0.147508</td>\n",
       "      <td>0.343055</td>\n",
       "      <td>-0.665684</td>\n",
       "      <td>0.355750</td>\n",
       "      <td>-1.117525</td>\n",
       "      <td>0.185614</td>\n",
       "      <td>...</td>\n",
       "      <td>-0.055325</td>\n",
       "      <td>0.183099</td>\n",
       "      <td>0.355593</td>\n",
       "      <td>0.680493</td>\n",
       "      <td>-0.640499</td>\n",
       "      <td>0.390749</td>\n",
       "      <td>-0.042951</td>\n",
       "      <td>-0.045733</td>\n",
       "      <td>14.95</td>\n",
       "      <td>0</td>\n",
       "    </tr>\n",
       "  </tbody>\n",
       "</table>\n",
       "<p>227845 rows × 32 columns</p>\n",
       "</div>"
      ],
      "text/plain": [
       "        Unnamed: 0      Time        P1        P2        P3        P4  \\\n",
       "0           202709  134454.0  1.997387  0.028631 -1.885047  0.341234   \n",
       "1           129171   78980.0 -0.851823  1.446070  0.679759  0.007973   \n",
       "2            73775   55273.0  1.119963  0.546055  0.877856  2.415833   \n",
       "3            31569   36417.0  1.328189 -0.305950 -0.998639 -1.236795   \n",
       "4           250571  154977.0 -0.618361 -0.861401  0.513524  1.677866   \n",
       "...            ...       ...       ...       ...       ...       ...   \n",
       "227840      123779   77062.0 -3.335590 -2.599210  0.382040  1.960999   \n",
       "227841      213565  139306.0 -2.547925  0.907351  0.118437  4.582570   \n",
       "227842      213130  139123.0  0.020578 -0.300600  0.515964 -2.423570   \n",
       "227843       65898   51795.0  1.151628 -0.011729  1.192780  1.135587   \n",
       "227844      154156  100895.0  1.922497 -0.464163  0.147508  0.343055   \n",
       "\n",
       "              P5        P6        P7        P8  ...       P21       P22  \\\n",
       "0       0.350263 -0.900297  0.119352 -0.157746  ...  0.229023  0.729647   \n",
       "1       0.617801 -1.210695  1.369637 -0.442985  ...  0.130170  0.471780   \n",
       "2      -0.282554 -0.336366  0.018747  0.042135  ... -0.183696 -0.662870   \n",
       "3       1.733800  3.236893 -0.779472  0.830587  ... -0.183574 -0.678249   \n",
       "4      -0.143396 -0.510276 -1.020312  0.734283  ...  0.029121 -0.269169   \n",
       "...          ...       ...       ...       ...  ...       ...       ...   \n",
       "227840  1.609231 -2.167901 -0.318535  0.267420  ... -0.066432  0.680808   \n",
       "227841  0.763807  2.426485  0.467556 -1.477862  ...  1.233590  0.892970   \n",
       "227842  0.219863  0.176180 -0.108928  0.131816  ...  0.542415  1.513675   \n",
       "227843 -0.694287  0.325303 -0.637144  0.223683  ... -0.030267  0.138446   \n",
       "227844 -0.665684  0.355750 -1.117525  0.185614  ... -0.055325  0.183099   \n",
       "\n",
       "             P23       P24       P25       P26       P27       P28     Mud  \\\n",
       "0      -0.082236 -0.550494  0.227840 -0.090372 -0.012176 -0.044384   21.90   \n",
       "1      -0.215118  0.402875 -0.109756 -0.629885 -0.725665 -0.351324    2.99   \n",
       "2       0.156578  0.471700  0.182968 -0.295540 -0.012185  0.020821    7.08   \n",
       "3       0.056192  1.054628  0.275940  0.919345 -0.069212  0.003619    7.68   \n",
       "4       0.410990 -0.091444 -0.883856 -0.863775 -0.023857 -0.293884   49.00   \n",
       "...          ...       ...       ...       ...       ...       ...     ...   \n",
       "227840  2.984533  0.326445  0.607655 -0.206789  0.293206 -0.385501   45.06   \n",
       "227841  1.037710 -0.988463 -0.404744  0.604577  0.554823 -0.576428  150.96   \n",
       "227842  0.025602  0.274267 -1.043304 -0.407177  0.254161  0.257661   29.00   \n",
       "227843 -0.056992  0.031559  0.454740 -0.407599  0.074367  0.024642    0.01   \n",
       "227844  0.355593  0.680493 -0.640499  0.390749 -0.042951 -0.045733   14.95   \n",
       "\n",
       "        Class  \n",
       "0           0  \n",
       "1           0  \n",
       "2           0  \n",
       "3           0  \n",
       "4           0  \n",
       "...       ...  \n",
       "227840      0  \n",
       "227841      0  \n",
       "227842      0  \n",
       "227843      0  \n",
       "227844      0  \n",
       "\n",
       "[227845 rows x 32 columns]"
      ]
     },
     "execution_count": 3,
     "metadata": {},
     "output_type": "execute_result"
    }
   ],
   "source": [
    "data"
   ]
  },
  {
   "cell_type": "code",
   "execution_count": 4,
   "metadata": {},
   "outputs": [
    {
     "data": {
      "image/png": "[encoded data removed]",
      "text/plain": [
       "<Figure size 432x288 with 1 Axes>"
      ]
     },
     "metadata": {
      "needs_background": "light"
     },
     "output_type": "display_data"
    }
   ],
   "source": [
    "quality = ['Good','Bad']\n",
    "plt.bar(quality, data.Class.value_counts(), align='center', alpha=0.5)\n",
    "\n",
    "plt.show()"
   ]
  },
  {
   "cell_type": "code",
   "execution_count": 5,
   "metadata": {},
   "outputs": [],
   "source": [
    "y = data.pop('Class')"
   ]
  },
  {
   "cell_type": "code",
   "execution_count": 6,
   "metadata": {},
   "outputs": [
    {
     "data": {
      "text/plain": [
       "0         0\n",
       "1         0\n",
       "2         0\n",
       "3         0\n",
       "4         0\n",
       "         ..\n",
       "227840    0\n",
       "227841    0\n",
       "227842    0\n",
       "227843    0\n",
       "227844    0\n",
       "Name: Class, Length: 227845, dtype: int64"
      ]
     },
     "execution_count": 6,
     "metadata": {},
     "output_type": "execute_result"
    }
   ],
   "source": [
    "y"
   ]
  },
  {
   "cell_type": "markdown",
   "metadata": {},
   "source": [
    "Data visualization by PCA - "
   ]
  },
  {
   "cell_type": "code",
   "execution_count": 7,
   "metadata": {},
   "outputs": [
    {
     "data": {
      "text/plain": [
       "array([[-7.17390906e+04, -4.26455702e+03],\n",
       "       [ 1.96693816e+04,  7.12375628e+03],\n",
       "       [ 7.95062248e+04,  3.21663533e+01],\n",
       "       ...,\n",
       "       [-8.30999052e+04, -3.11189144e+03],\n",
       "       [ 8.80680693e+04, -8.83469517e+02],\n",
       "       [-1.29175485e+04,  5.96155272e+02]])"
      ]
     },
     "execution_count": 7,
     "metadata": {},
     "output_type": "execute_result"
    }
   ],
   "source": [
    "from sklearn.decomposition import PCA\n",
    "\n",
    "pca = PCA(n_components=2)\n",
    "datapca = pca.fit_transform(data)\n",
    "datapca"
   ]
  },
  {
   "cell_type": "code",
   "execution_count": 8,
   "metadata": {},
   "outputs": [
    {
     "data": {
      "text/plain": [
       "<matplotlib.collections.PathCollection at 0x24352635c90>"
      ]
     },
     "execution_count": 8,
     "metadata": {},
     "output_type": "execute_result"
    },
    {
     "data": {
      "image/png": "[encoded data removed]",
      "text/plain": [
       "<Figure size 432x288 with 1 Axes>"
      ]
     },
     "metadata": {
      "needs_background": "light"
     },
     "output_type": "display_data"
    }
   ],
   "source": [
    "plt.scatter(datapca[:,0], datapca[:,1], c=y)"
   ]
  },
  {
   "cell_type": "markdown",
   "metadata": {},
   "source": [
    "Training - "
   ]
  },
  {
   "cell_type": "code",
   "execution_count": 7,
   "metadata": {},
   "outputs": [],
   "source": [
    "# Common imports\n",
    "from sklearn.model_selection import train_test_split\n",
    "from sklearn.pipeline import make_pipeline\n",
    "from sklearn.metrics import confusion_matrix, ConfusionMatrixDisplay, roc_auc_score\n",
    "\n",
    "# For logistic regression\n",
    "from sklearn.linear_model import LogisticRegression\n",
    "from sklearn.preprocessing import StandardScaler, PolynomialFeatures\n",
    "\n",
    "# For XGBoost\n",
    "from xgboost import XGBClassifier\n",
    "\n",
    "# For Random Forest\n",
    "from sklearn.ensemble import RandomForestClassifier\n",
    "\n",
    "X_train, X_test, y_train, y_test = train_test_split(data, y, random_state=42)\n"
   ]
  },
  {
   "cell_type": "code",
   "execution_count": 8,
   "metadata": {},
   "outputs": [],
   "source": [
    "def confusion_matrix_visualization(pipe, y_test, predictions):\n",
    "    cm = confusion_matrix(y_test, predictions, labels=pipe.classes_)\n",
    "    disp = ConfusionMatrixDisplay(confusion_matrix=cm, display_labels=pipe.classes_)\n",
    "    disp.plot()"
   ]
  },
  {
   "cell_type": "markdown",
   "metadata": {},
   "source": [
    "Logistic regression - "
   ]
  },
  {
   "cell_type": "code",
   "execution_count": 9,
   "metadata": {},
   "outputs": [
    {
     "name": "stdout",
     "output_type": "stream",
     "text": [
      "0.8459955932657309\n"
     ]
    },
    {
     "data": {
      "image/png": "[encoded data removed]",
      "text/plain": [
       "<Figure size 432x288 with 2 Axes>"
      ]
     },
     "metadata": {
      "needs_background": "light"
     },
     "output_type": "display_data"
    }
   ],
   "source": [
    "pipe = make_pipeline(StandardScaler(), PolynomialFeatures(), LogisticRegression(max_iter=100000))\n",
    "pipe.fit(X_train, y_train)\n",
    "predictions = pipe.predict(X_test)\n",
    "\n",
    "confusion_matrix_visualization(pipe, y_test, predictions)\n",
    "print(roc_auc_score(y_test, predictions))"
   ]
  },
  {
   "cell_type": "markdown",
   "metadata": {},
   "source": [
    "XGboost - "
   ]
  },
  {
   "cell_type": "code",
   "execution_count": 10,
   "metadata": {},
   "outputs": [
    {
     "name": "stderr",
     "output_type": "stream",
     "text": [
      "C:\\Users\\ayush\\AppData\\Local\\Programs\\Python\\Python39\\lib\\site-packages\\xgboost\\sklearn.py:1224: UserWarning: The use of label encoder in XGBClassifier is deprecated and will be removed in a future release. To remove this warning, do the following: 1) Pass option use_label_encoder=False when constructing XGBClassifier object; and 2) Encode your labels (y) as integers starting with 0, i.e. 0, 1, 2, ..., [num_class - 1].\n",
      "  warnings.warn(label_encoder_deprecation_msg, UserWarning)\n"
     ]
    },
    {
     "name": "stdout",
     "output_type": "stream",
     "text": [
      "[13:46:57] WARNING: C:/Users/Administrator/workspace/xgboost-win64_release_1.5.1/src/learner.cc:1115: Starting in XGBoost 1.3.0, the default evaluation metric used with the objective 'binary:logistic' was changed from 'error' to 'logloss'. Explicitly set eval_metric if you'd like to restore the old behavior.\n",
      "0.895542852814573\n"
     ]
    },
    {
     "data": {
      "image/png": "[encoded data removed]",
      "text/plain": [
       "<Figure size 432x288 with 2 Axes>"
      ]
     },
     "metadata": {
      "needs_background": "light"
     },
     "output_type": "display_data"
    }
   ],
   "source": [
    "model = XGBClassifier()\n",
    "model.fit(X_train, y_train)\n",
    "predictions = model.predict(X_test)\n",
    "\n",
    "confusion_matrix_visualization(model, y_test, predictions)\n",
    "print(roc_auc_score(y_test,predictions))"
   ]
  },
  {
   "cell_type": "markdown",
   "metadata": {},
   "source": [
    "Randomforest - "
   ]
  },
  {
   "cell_type": "code",
   "execution_count": 11,
   "metadata": {},
   "outputs": [
    {
     "name": "stdout",
     "output_type": "stream",
     "text": [
      "0.895542852814573\n"
     ]
    },
    {
     "data": {
      "image/png": "[encoded data removed]",
      "text/plain": [
       "<Figure size 432x288 with 2 Axes>"
      ]
     },
     "metadata": {
      "needs_background": "light"
     },
     "output_type": "display_data"
    }
   ],
   "source": [
    "pipe = make_pipeline(RandomForestClassifier())\n",
    "pipe.fit(X_train, y_train)\n",
    "\n",
    "confusion_matrix_visualization(model, y_test, predictions)\n",
    "print(roc_auc_score(y_test,model.predict(X_test)))"
   ]
  }
 ],
 "metadata": {
  "interpreter": {
   "hash": "a78e22a20431e2d66373e1b704b7f1ae045e88f0458d551e46d9178ce016a936"
  },
  "kernelspec": {
   "display_name": "Python 3.10.2 64-bit",
   "language": "python",
   "name": "python3"
  },
  "language_info": {
   "codemirror_mode": {
    "name": "ipython",
    "version": 3
   },
   "file_extension": ".py",
   "mimetype": "text/x-python",
   "name": "python",
   "nbconvert_exporter": "python",
   "pygments_lexer": "ipython3",
   "version": "3.10.2"
  },
  "orig_nbformat": 4
 },
 "nbformat": 4,
 "nbformat_minor": 2
}
