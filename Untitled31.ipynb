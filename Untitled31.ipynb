{
  "nbformat": 4,
  "nbformat_minor": 0,
  "metadata": {
    "colab": {
      "name": "Untitled31.ipynb",
      "provenance": []
    },
    "kernelspec": {
      "name": "python3",
      "display_name": "Python 3"
    },
    "language_info": {
      "name": "python"
    }
  },
  "cells": [
    {
      "cell_type": "code",
      "execution_count": null,
      "metadata": {
        "id": "-L8sqpP8RpRs"
      },
      "outputs": [],
      "source": [
        "import pandas as pd\n",
        "import numpy as np\n",
        "import catboost as cb\n",
        "from sklearn.model_selection import train_test_split\n",
        "import matplotlib.pyplot as plt\n",
        "from imblearn.over_sampling import SMOTE\n",
        "import seaborn as sns\n",
        "x=pd.read_csv('/content/drive/MyDrive/training_set.csv')\n",
        "y=x['Class']\n",
        "x.drop(['Unnamed: 0','Class'],axis=1,inplace=True)\n",
        "x=x.to_numpy()\n",
        "y=y.to_numpy()\n",
        "\n",
        "params={'depth': 4,\n",
        "    'learning_rate': 0.03158149143364172,\n",
        "    'random_strength': 38,\n",
        "    'bagging_temperature': 0.0322304245125658,\n",
        "    'od_type': 'IncToDec'}\n",
        "\n",
        "X_train, X_test, y_train, y_test = train_test_split(x, y,\n",
        "                                                    stratify=y, \n",
        "                                                    test_size=0.1,shuffle=True)\n",
        "clf = cb.CatBoostClassifier(loss_function='Logloss', eval_metric='AUC', task_type=\"GPU\",**params,verbose=False)\n",
        "smote = SMOTE(random_state=0)\n",
        "X_train_over,y_train_over = smote.fit_resample(X_train,y_train)\n",
        "clf.fit(X_train_over, y_train_over)\n",
        "print(roc_auc_score(y_test,clf.predict_proba(X_test)[:,1]))"
      ]
    }
  ]
}